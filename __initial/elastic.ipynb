{
 "cells": [
  {
   "cell_type": "code",
   "execution_count": 5,
   "metadata": {},
   "outputs": [
    {
     "name": "stderr",
     "output_type": "stream",
     "text": [
      "C:\\Users\\chand\\AppData\\Local\\Temp\\ipykernel_28188\\1380523509.py:14: DeprecationWarning: The 'body' parameter is deprecated and will be removed in a future version. Instead use individual parameters.\n",
      "  res = es.count(index='item_recommendations', body=count_query)\n"
     ]
    },
    {
     "name": "stdout",
     "output_type": "stream",
     "text": [
      "There are 10958 documents in the 'item_recommendations' index.\n"
     ]
    },
    {
     "name": "stderr",
     "output_type": "stream",
     "text": [
      "C:\\Users\\chand\\AppData\\Local\\Temp\\ipykernel_28188\\1380523509.py:14: ElasticsearchWarning: Elasticsearch built-in security features are not enabled. Without authentication, your cluster could be accessible to anyone. See https://www.elastic.co/guide/en/elasticsearch/reference/7.17/security-minimal-setup.html to enable security.\n",
      "  res = es.count(index='item_recommendations', body=count_query)\n"
     ]
    }
   ],
   "source": [
    "from elasticsearch import Elasticsearch\n",
    "\n",
    "# Initialize Elasticsearch client\n",
    "es = Elasticsearch([{'host': 'localhost', 'port': 9200, 'scheme': 'http'}])  # Replace with your Elasticsearch host and port\n",
    "\n",
    "# Define the count query\n",
    "count_query = {\n",
    "    \"query\": {\n",
    "        \"match_all\": {}\n",
    "    }\n",
    "}\n",
    "\n",
    "# Perform the count query\n",
    "res = es.count(index='item_recommendations', body=count_query)\n",
    "\n",
    "# Get the count of documents in the index\n",
    "document_count = res['count']\n",
    "\n",
    "if document_count > 0:\n",
    "    print(f\"There are {document_count} documents in the 'item_recommendations' index.\")\n",
    "else:\n",
    "    print(\"The 'item_recommendations' index is empty.\")\n"
   ]
  },
  {
   "cell_type": "code",
   "execution_count": 3,
   "metadata": {},
   "outputs": [
    {
     "name": "stderr",
     "output_type": "stream",
     "text": [
      "C:\\Users\\chand\\AppData\\Local\\Temp\\ipykernel_28188\\295948711.py:15: DeprecationWarning: The 'body' parameter is deprecated and will be removed in a future version. Instead use individual parameters.\n",
      "  res = es.search(index='item_recommendations', body=search_query)\n"
     ]
    },
    {
     "name": "stdout",
     "output_type": "stream",
     "text": [
      "Document ID: 0fb3fae6c3a74bc9fd48a66d0be5f378\n",
      "Document Data: {'product_id': '0fb3fae6c3a74bc9fd48a66d0be5f378', 'recommendations': [{'rank': 1, 'recommended_item_id': '362b773250263786dd58670d2df42c3b'}, {'rank': 2, 'recommended_item_id': '422879e10f46682990de24d770e7f83d'}, {'rank': 3, 'recommended_item_id': '616042729c11849827291496b18e9ec5'}, {'rank': 4, 'recommended_item_id': '4316b712956314302c5d0aef9ed77c13'}, {'rank': 5, 'recommended_item_id': '8e1446d14972eb9ba34dd6273315f419'}]}\n",
      "\n",
      "\n",
      "Document ID: 0fb4287d451ca41ec9311a82fd9599a3\n",
      "Document Data: {'product_id': '0fb4287d451ca41ec9311a82fd9599a3', 'recommendations': [{'rank': 1, 'recommended_item_id': '054515fd15bc1a2029f10de97ffa9120'}, {'rank': 2, 'recommended_item_id': '35afc973633aaeb6b877ff57b2793310'}, {'rank': 3, 'recommended_item_id': 'aba86c093ccdbac75b09111d57e50004'}, {'rank': 4, 'recommended_item_id': '0fb4287d451ca41ec9311a82fd9599a3'}, {'rank': 5, 'recommended_item_id': 'e53e557d5a159f5aa2c5e995dfdf244b'}]}\n",
      "\n",
      "\n",
      "Document ID: 0fb6b59dfdb5d97bed3bef40ffe49885\n",
      "Document Data: {'product_id': '0fb6b59dfdb5d97bed3bef40ffe49885', 'recommendations': [{'rank': 1, 'recommended_item_id': 'b532349fe46b38fbc7bb3914c1bdae07'}, {'rank': 2, 'recommended_item_id': '362b773250263786dd58670d2df42c3b'}, {'rank': 3, 'recommended_item_id': '990d135e28e075648cb7d83198fdccf4'}, {'rank': 4, 'recommended_item_id': '8c591ab0ca519558779df02023177f44'}, {'rank': 5, 'recommended_item_id': '781afe929e3016a667f5f439afd55fce'}]}\n",
      "\n",
      "\n",
      "Document ID: 0fb817c334895944db8933eac77bbc0a\n",
      "Document Data: {'product_id': '0fb817c334895944db8933eac77bbc0a', 'recommendations': [{'rank': 1, 'recommended_item_id': 'a62e25e09e05e6faf31d90c6ec1aa3d1'}, {'rank': 2, 'recommended_item_id': '37eb69aca8718e843d897aa7b82f462d'}, {'rank': 3, 'recommended_item_id': 'bb50f2e236e5eea0100680137654686c'}, {'rank': 4, 'recommended_item_id': 'b00a32a0b42fd65efb58a5822009f629'}, {'rank': 5, 'recommended_item_id': '42a2c92a0979a949ca4ea89ec5c7b934'}]}\n",
      "\n",
      "\n",
      "Document ID: 0fb9aa9a6103872d8f580d721e099f89\n",
      "Document Data: {'product_id': '0fb9aa9a6103872d8f580d721e099f89', 'recommendations': [{'rank': 1, 'recommended_item_id': 'd3c044bd42d84a79e3b0c42662806a48'}, {'rank': 2, 'recommended_item_id': 'c7fd13b5e515bffdab855d0812842edb'}, {'rank': 3, 'recommended_item_id': '422879e10f46682990de24d770e7f83d'}, {'rank': 4, 'recommended_item_id': 'b114bf337c0626166abe574eee9e3f32'}, {'rank': 5, 'recommended_item_id': '0fb9aa9a6103872d8f580d721e099f89'}]}\n",
      "\n",
      "\n",
      "Document ID: 0fbbab2c9572a69294f4cd0f59ba4a4e\n",
      "Document Data: {'product_id': '0fbbab2c9572a69294f4cd0f59ba4a4e', 'recommendations': [{'rank': 1, 'recommended_item_id': 'b532349fe46b38fbc7bb3914c1bdae07'}, {'rank': 2, 'recommended_item_id': 'd3c044bd42d84a79e3b0c42662806a48'}, {'rank': 3, 'recommended_item_id': '781afe929e3016a667f5f439afd55fce'}, {'rank': 4, 'recommended_item_id': 'ad4b5def91ac7c575dbdf65b5be311f4'}, {'rank': 5, 'recommended_item_id': '964dd0fcba2ca4eff8e31ec74a77d41d'}]}\n",
      "\n",
      "\n",
      "Document ID: 0fbe487106cf1d260fa38c000eaa0dbd\n",
      "Document Data: {'product_id': '0fbe487106cf1d260fa38c000eaa0dbd', 'recommendations': [{'rank': 1, 'recommended_item_id': '422879e10f46682990de24d770e7f83d'}, {'rank': 2, 'recommended_item_id': 'd5991653e037ccb7af6ed7d94246b249'}, {'rank': 3, 'recommended_item_id': '656e0eca68dcecf6a31b8ececfabe3e8'}, {'rank': 4, 'recommended_item_id': '19421075ae0b585f2dc13ff149e2119d'}, {'rank': 5, 'recommended_item_id': 'c6dd917a0be2a704582055949915ab32'}]}\n",
      "\n",
      "\n",
      "Document ID: 0fbf220f61720a67fc0d6432cb32a5b4\n",
      "Document Data: {'product_id': '0fbf220f61720a67fc0d6432cb32a5b4', 'recommendations': [{'rank': 1, 'recommended_item_id': '389d119b48cf3043d311335e499d9c6b'}, {'rank': 2, 'recommended_item_id': '928e52a9ad53a294fdcc91bcf59d1751'}, {'rank': 3, 'recommended_item_id': '1bfb290d7273a442c874dbe74b4abae6'}, {'rank': 4, 'recommended_item_id': 'b81a05d0dd312ece2140846909f5ef81'}, {'rank': 5, 'recommended_item_id': 'a19b6951c75da43aad691622dd2f6abe'}]}\n",
      "\n",
      "\n",
      "Document ID: 0fc323f82937aa2d350753be764a155f\n",
      "Document Data: {'product_id': '0fc323f82937aa2d350753be764a155f', 'recommendations': [{'rank': 1, 'recommended_item_id': 'd5991653e037ccb7af6ed7d94246b249'}, {'rank': 2, 'recommended_item_id': '37eb69aca8718e843d897aa7b82f462d'}, {'rank': 3, 'recommended_item_id': 'b192be433004cc1f10b467c0e9ea309b'}, {'rank': 4, 'recommended_item_id': '98224bfc1eaadb3a394ec334c60453ff'}, {'rank': 5, 'recommended_item_id': 'be0dbdc3d67d55727a65d4cd696ca73c'}]}\n",
      "\n",
      "\n",
      "Document ID: 0fc6914383c2bea767a9562c9d8b43a1\n",
      "Document Data: {'product_id': '0fc6914383c2bea767a9562c9d8b43a1', 'recommendations': [{'rank': 1, 'recommended_item_id': '362b773250263786dd58670d2df42c3b'}, {'rank': 2, 'recommended_item_id': '0fc6914383c2bea767a9562c9d8b43a1'}, {'rank': 3, 'recommended_item_id': '656e0eca68dcecf6a31b8ececfabe3e8'}, {'rank': 4, 'recommended_item_id': 'ee5329ffbe604bebcf84b2fd7792024e'}, {'rank': 5, 'recommended_item_id': 'd3c044bd42d84a79e3b0c42662806a48'}]}\n",
      "\n",
      "\n"
     ]
    },
    {
     "name": "stderr",
     "output_type": "stream",
     "text": [
      "C:\\Users\\chand\\AppData\\Local\\Temp\\ipykernel_28188\\295948711.py:15: ElasticsearchWarning: Elasticsearch built-in security features are not enabled. Without authentication, your cluster could be accessible to anyone. See https://www.elastic.co/guide/en/elasticsearch/reference/7.17/security-minimal-setup.html to enable security.\n",
      "  res = es.search(index='item_recommendations', body=search_query)\n"
     ]
    }
   ],
   "source": [
    "from elasticsearch import Elasticsearch\n",
    "\n",
    "# Initialize Elasticsearch client\n",
    "es = Elasticsearch([{'host': 'localhost', 'port': 9200, 'scheme': 'http'}])  # Replace with your Elasticsearch host and port\n",
    "\n",
    "# Define the search query\n",
    "search_query = {\n",
    "    \"query\": {\n",
    "        \"match_all\": {}\n",
    "    },\n",
    "    \"size\": 10  # Number of documents to retrieve\n",
    "}\n",
    "\n",
    "# Perform the search query\n",
    "res = es.search(index='item_recommendations', body=search_query)\n",
    "\n",
    "# Extract and print the documents\n",
    "documents = res['hits']['hits']\n",
    "for doc in documents:\n",
    "    print(\"Document ID:\", doc['_id'])\n",
    "    print(\"Document Data:\", doc['_source'])\n",
    "    print(\"\\n\")\n"
   ]
  },
  {
   "cell_type": "code",
   "execution_count": null,
   "metadata": {},
   "outputs": [],
   "source": []
  }
 ],
 "metadata": {
  "kernelspec": {
   "display_name": "Python 3",
   "language": "python",
   "name": "python3"
  },
  "language_info": {
   "codemirror_mode": {
    "name": "ipython",
    "version": 3
   },
   "file_extension": ".py",
   "mimetype": "text/x-python",
   "name": "python",
   "nbconvert_exporter": "python",
   "pygments_lexer": "ipython3",
   "version": "3.11.1"
  },
  "orig_nbformat": 4
 },
 "nbformat": 4,
 "nbformat_minor": 2
}
