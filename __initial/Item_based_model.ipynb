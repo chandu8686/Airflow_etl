{
 "cells": [
  {
   "cell_type": "code",
   "execution_count": 2,
   "metadata": {},
   "outputs": [],
   "source": [
    "#Required packages\n",
    "import pandas as pd\n",
    "\n",
    "from fastai.collab import *"
   ]
  },
  {
   "cell_type": "code",
   "execution_count": 3,
   "metadata": {},
   "outputs": [],
   "source": [
    "orders_df = pd.read_csv(\"./Data/olist_orders_dataset.csv\")\n",
    "order_items_df = pd.read_csv(\"./Data/olist_order_items_dataset.csv\")\n",
    "#customer_df = pd.read_csv(\"./Data/olist_customers_dataset.csv\")\n",
    "reviews_df = pd.read_csv(\"./Data/olist_order_reviews_dataset.csv\")\n",
    "product_df = pd.read_csv(\"./Data/olist_products_dataset.csv\")"
   ]
  },
  {
   "cell_type": "code",
   "execution_count": 4,
   "metadata": {},
   "outputs": [
    {
     "data": {
      "text/html": [
       "<div>\n",
       "<style scoped>\n",
       "    .dataframe tbody tr th:only-of-type {\n",
       "        vertical-align: middle;\n",
       "    }\n",
       "\n",
       "    .dataframe tbody tr th {\n",
       "        vertical-align: top;\n",
       "    }\n",
       "\n",
       "    .dataframe thead th {\n",
       "        text-align: right;\n",
       "    }\n",
       "</style>\n",
       "<table border=\"1\" class=\"dataframe\">\n",
       "  <thead>\n",
       "    <tr style=\"text-align: right;\">\n",
       "      <th></th>\n",
       "      <th>order_id</th>\n",
       "      <th>customer_id</th>\n",
       "      <th>product_id</th>\n",
       "      <th>review_score</th>\n",
       "      <th>product_category_name</th>\n",
       "    </tr>\n",
       "  </thead>\n",
       "  <tbody>\n",
       "    <tr>\n",
       "      <th>0</th>\n",
       "      <td>e481f51cbdc54678b7cc49136f2d6af7</td>\n",
       "      <td>9ef432eb6251297304e76186b10a928d</td>\n",
       "      <td>87285b34884572647811a353c7ac498a</td>\n",
       "      <td>4</td>\n",
       "      <td>utilidades_domesticas</td>\n",
       "    </tr>\n",
       "    <tr>\n",
       "      <th>1</th>\n",
       "      <td>128e10d95713541c87cd1a2e48201934</td>\n",
       "      <td>a20e8105f23924cd00833fd87daa0831</td>\n",
       "      <td>87285b34884572647811a353c7ac498a</td>\n",
       "      <td>4</td>\n",
       "      <td>utilidades_domesticas</td>\n",
       "    </tr>\n",
       "    <tr>\n",
       "      <th>2</th>\n",
       "      <td>0e7e841ddf8f8f2de2bad69267ecfbcf</td>\n",
       "      <td>26c7ac168e1433912a51b924fbd34d34</td>\n",
       "      <td>87285b34884572647811a353c7ac498a</td>\n",
       "      <td>5</td>\n",
       "      <td>utilidades_domesticas</td>\n",
       "    </tr>\n",
       "    <tr>\n",
       "      <th>3</th>\n",
       "      <td>bfc39df4f36c3693ff3b63fcbea9e90a</td>\n",
       "      <td>53904ddbea91e1e92b2b3f1d09a7af86</td>\n",
       "      <td>87285b34884572647811a353c7ac498a</td>\n",
       "      <td>3</td>\n",
       "      <td>utilidades_domesticas</td>\n",
       "    </tr>\n",
       "    <tr>\n",
       "      <th>4</th>\n",
       "      <td>53cdb2fc8bc7dce0b6741e2150273451</td>\n",
       "      <td>b0830fb4747a6c6d20dea0b8c802d7ef</td>\n",
       "      <td>595fac2a385ac33a80bd5114aec74eb8</td>\n",
       "      <td>4</td>\n",
       "      <td>perfumaria</td>\n",
       "    </tr>\n",
       "  </tbody>\n",
       "</table>\n",
       "</div>"
      ],
      "text/plain": [
       "                           order_id                       customer_id   \n",
       "0  e481f51cbdc54678b7cc49136f2d6af7  9ef432eb6251297304e76186b10a928d  \\\n",
       "1  128e10d95713541c87cd1a2e48201934  a20e8105f23924cd00833fd87daa0831   \n",
       "2  0e7e841ddf8f8f2de2bad69267ecfbcf  26c7ac168e1433912a51b924fbd34d34   \n",
       "3  bfc39df4f36c3693ff3b63fcbea9e90a  53904ddbea91e1e92b2b3f1d09a7af86   \n",
       "4  53cdb2fc8bc7dce0b6741e2150273451  b0830fb4747a6c6d20dea0b8c802d7ef   \n",
       "\n",
       "                         product_id  review_score  product_category_name  \n",
       "0  87285b34884572647811a353c7ac498a             4  utilidades_domesticas  \n",
       "1  87285b34884572647811a353c7ac498a             4  utilidades_domesticas  \n",
       "2  87285b34884572647811a353c7ac498a             5  utilidades_domesticas  \n",
       "3  87285b34884572647811a353c7ac498a             3  utilidades_domesticas  \n",
       "4  595fac2a385ac33a80bd5114aec74eb8             4             perfumaria  "
      ]
     },
     "execution_count": 4,
     "metadata": {},
     "output_type": "execute_result"
    }
   ],
   "source": [
    "final_df = orders_df[['order_id', 'customer_id']].merge(order_items_df[['order_id', 'product_id']], on='order_id') \\\n",
    "                .merge(reviews_df[['order_id', 'review_score']], on='order_id') \\\n",
    "                .merge(product_df[['product_id', 'product_category_name']], left_on='product_id', right_on='product_id')\n",
    "final_df.head()"
   ]
  },
  {
   "cell_type": "code",
   "execution_count": 5,
   "metadata": {},
   "outputs": [],
   "source": [
    "# Create a DataLoaders object\n",
    "dls = CollabDataLoaders.from_df(final_df, user_name='customer_id', item_name='product_id', rating_name='review_score', bs=64)"
   ]
  },
  {
   "cell_type": "code",
   "execution_count": 6,
   "metadata": {},
   "outputs": [
    {
     "data": {
      "text/html": [
       "\n",
       "<style>\n",
       "    /* Turns off some styling */\n",
       "    progress {\n",
       "        /* gets rid of default border in Firefox and Opera. */\n",
       "        border: none;\n",
       "        /* Needs to be in here for Safari polyfill so background images work as expected. */\n",
       "        background-size: auto;\n",
       "    }\n",
       "    progress:not([value]), progress:not([value])::-webkit-progress-bar {\n",
       "        background: repeating-linear-gradient(45deg, #7e7e7e, #7e7e7e 10px, #5c5c5c 10px, #5c5c5c 20px);\n",
       "    }\n",
       "    .progress-bar-interrupted, .progress-bar-interrupted::-webkit-progress-bar {\n",
       "        background: #F44336;\n",
       "    }\n",
       "</style>\n"
      ],
      "text/plain": [
       "<IPython.core.display.HTML object>"
      ]
     },
     "metadata": {},
     "output_type": "display_data"
    },
    {
     "data": {
      "text/html": [
       "<table border=\"1\" class=\"dataframe\">\n",
       "  <thead>\n",
       "    <tr style=\"text-align: left;\">\n",
       "      <th>epoch</th>\n",
       "      <th>train_loss</th>\n",
       "      <th>valid_loss</th>\n",
       "      <th>time</th>\n",
       "    </tr>\n",
       "  </thead>\n",
       "  <tbody>\n",
       "    <tr>\n",
       "      <td>0</td>\n",
       "      <td>3.047470</td>\n",
       "      <td>3.035498</td>\n",
       "      <td>05:00</td>\n",
       "    </tr>\n",
       "  </tbody>\n",
       "</table>"
      ],
      "text/plain": [
       "<IPython.core.display.HTML object>"
      ]
     },
     "metadata": {},
     "output_type": "display_data"
    }
   ],
   "source": [
    "# Create a DataLoaders object\n",
    "#dls = CollabDataLoaders.from_df(final_df, user_name='customer_id', item_name='product_id', rating_name='review_score', bs=64)\n",
    "\n",
    "# Create and train the model\n",
    "learn = collab_learner(dls, n_factors=50, y_range=(0, 5.5))\n",
    "learn.fit_one_cycle(1, 5e-3)"
   ]
  },
  {
   "cell_type": "code",
   "execution_count": 5,
   "metadata": {},
   "outputs": [],
   "source": [
    "#learn.export()"
   ]
  },
  {
   "cell_type": "code",
   "execution_count": 3,
   "metadata": {},
   "outputs": [],
   "source": [
    "# from fastai.tabular.all import load_learner\n",
    "\n",
    "# # Replace 'path_to_model' with the actual path to your saved model\n",
    "# path_to_model = 'item_based_v1.pkl'\n",
    "# learn = load_learner(path_to_model)"
   ]
  },
  {
   "cell_type": "code",
   "execution_count": 8,
   "metadata": {},
   "outputs": [
    {
     "name": "stdout",
     "output_type": "stream",
     "text": [
      "Recommended items for 87285b34884572647811a353c7ac498a: ['3eef0cb94ba82de806bb30ab743c7655', '36f60d45225e60c7da4558b070ce4b60', '97f1396a5a1f7c07ba51784efdec44b8', '90df1d60e33ed1bdadec994d809f4bfd', '389d119b48cf3043d311335e499d9c6b']\n"
     ]
    }
   ],
   "source": [
    "# Generate recommendations for a given item\n",
    "target_item = '87285b34884572647811a353c7ac498a'  # Replace with the actual item ID\n",
    "item_idx = learn.dls.classes['product_id'].o2i[target_item]\n",
    "item_factors = learn.model.i_weight.weight\n",
    "similarity_scores = (item_factors @ item_factors[item_idx].T).squeeze()\n",
    "recommended_indices = similarity_scores.argsort(descending=True)[:5]\n",
    "recommended_items = [dls.classes['product_id'][i] for i in recommended_indices]\n",
    "\n",
    "print(f\"Recommended items for {target_item}: {recommended_items}\")"
   ]
  },
  {
   "cell_type": "code",
   "execution_count": 10,
   "metadata": {},
   "outputs": [
    {
     "name": "stderr",
     "output_type": "stream",
     "text": [
      "C:\\Users\\chand\\AppData\\Local\\Temp\\ipykernel_30236\\3657054374.py:7: ElasticsearchWarning: Elasticsearch built-in security features are not enabled. Without authentication, your cluster could be accessible to anyone. See https://www.elastic.co/guide/en/elasticsearch/reference/7.17/security-minimal-setup.html to enable security.\n",
      "  if es.indices.exists(index='item_recommendations'):\n",
      "C:\\Users\\chand\\AppData\\Local\\Temp\\ipykernel_30236\\3657054374.py:8: ElasticsearchWarning: Elasticsearch built-in security features are not enabled. Without authentication, your cluster could be accessible to anyone. See https://www.elastic.co/guide/en/elasticsearch/reference/7.17/security-minimal-setup.html to enable security.\n",
      "  es.indices.delete(index='item_recommendations')\n"
     ]
    }
   ],
   "source": [
    "from elasticsearch import Elasticsearch\n",
    "\n",
    "# Initialize Elasticsearch client\n",
    "es = Elasticsearch([{'host': 'localhost', 'port': 9200, 'scheme': 'http'}])\n",
    "\n",
    "# Delete the existing index if it exists\n",
    "if es.indices.exists(index='item_recommendations'):\n",
    "    es.indices.delete(index='item_recommendations')\n",
    "\n",
    "# # Create the index with mappings\n",
    "# index_settings = {\n",
    "#     'mappings': {\n",
    "#         'properties': {\n",
    "#             'product_id': {'type': 'keyword'},\n",
    "#             'recommendations': {\n",
    "#                 'type': 'nested',\n",
    "#                 'properties': {\n",
    "#                     'rank': {'type': 'integer'},\n",
    "#                     'recommended_item_id': {'type': 'keyword'}\n",
    "#                 }\n",
    "#             }\n",
    "#         }\n",
    "#     }\n",
    "# }\n",
    "\n",
    "# # Create the index\n",
    "# es.indices.create(index='item_recommendations', body=index_settings)"
   ]
  },
  {
   "cell_type": "code",
   "execution_count": null,
   "metadata": {},
   "outputs": [
    {
     "name": "stderr",
     "output_type": "stream",
     "text": [
      "C:\\Users\\chand\\AppData\\Local\\Temp\\ipykernel_27204\\179936219.py:22: ElasticsearchWarning: Elasticsearch built-in security features are not enabled. Without authentication, your cluster could be accessible to anyone. See https://www.elastic.co/guide/en/elasticsearch/reference/7.17/security-minimal-setup.html to enable security.\n",
      "  if not es.indices.exists(index='item_recommendations'):\n",
      "C:\\Users\\chand\\AppData\\Local\\Temp\\ipykernel_27204\\179936219.py:42: DeprecationWarning: The 'body' parameter is deprecated and will be removed in a future version. Instead use the 'document' parameter. See https://github.com/elastic/elasticsearch-py/issues/1698 for more information\n",
      "  es.index(index='item_recommendations', id=target_item, body={'recommendations': recommendations})\n",
      "C:\\Users\\chand\\AppData\\Local\\Temp\\ipykernel_27204\\179936219.py:42: ElasticsearchWarning: Elasticsearch built-in security features are not enabled. Without authentication, your cluster could be accessible to anyone. See https://www.elastic.co/guide/en/elasticsearch/reference/7.17/security-minimal-setup.html to enable security.\n",
      "  es.index(index='item_recommendations', id=target_item, body={'recommendations': recommendations})\n"
     ]
    },
    {
     "ename": "",
     "evalue": "",
     "output_type": "error",
     "traceback": [
      "\u001b[1;31mCannot execute code, session has been disposed. Please try restarting the Kernel."
     ]
    },
    {
     "ename": "",
     "evalue": "",
     "output_type": "error",
     "traceback": [
      "\u001b[1;31mThe Kernel crashed while executing code in the the current cell or a previous cell. Please review the code in the cell(s) to identify a possible cause of the failure. Click <a href='https://aka.ms/vscodeJupyterKernelCrash'>here</a> for more info. View Jupyter <a href='command:jupyter.viewOutput'>log</a> for further details."
     ]
    }
   ],
   "source": [
    "# Iterate through all product IDs\n",
    "for target_item in dls.classes['product_id']:\n",
    "    item_idx = dls.classes['product_id'].o2i[target_item]\n",
    "    item_factors = learn.model.i_weight.weight\n",
    "    similarity_scores = (item_factors @ item_factors[item_idx].T).squeeze()\n",
    "    recommended_indices = similarity_scores.argsort(descending=True)[:5]\n",
    "    recommended_items = [dls.classes['product_id'][i] for i in recommended_indices]\n",
    "\n",
    "    # Prepare the recommendations data\n",
    "    recommendations = []\n",
    "    for rank, item_id in enumerate(recommended_items, start=1):\n",
    "        recommendations.append({\n",
    "            'rank': rank,\n",
    "            'recommended_item_id': item_id\n",
    "        })\n",
    "\n",
    "    # Save recommendations in Elasticsearch\n",
    "    doc = {\n",
    "        'product_id': target_item,\n",
    "        'recommendations': recommendations\n",
    "    }\n",
    "    es.index(index='item_recommendations', id=target_item, body=doc)"
   ]
  },
  {
   "cell_type": "code",
   "execution_count": 11,
   "metadata": {},
   "outputs": [
    {
     "name": "stderr",
     "output_type": "stream",
     "text": [
      "C:\\Users\\chand\\AppData\\Local\\Temp\\ipykernel_30236\\3566602912.py:21: ElasticsearchWarning: Elasticsearch built-in security features are not enabled. Without authentication, your cluster could be accessible to anyone. See https://www.elastic.co/guide/en/elasticsearch/reference/7.17/security-minimal-setup.html to enable security.\n",
      "  if not es.indices.exists(index='item_recommendations'):\n",
      "C:\\Users\\chand\\AppData\\Local\\Temp\\ipykernel_30236\\3566602912.py:22: DeprecationWarning: The 'body' parameter is deprecated and will be removed in a future version. Instead use individual parameters.\n",
      "  es.indices.create(index='item_recommendations', body=index_settings)\n",
      "C:\\Users\\chand\\AppData\\Local\\Temp\\ipykernel_30236\\3566602912.py:22: ElasticsearchWarning: Elasticsearch built-in security features are not enabled. Without authentication, your cluster could be accessible to anyone. See https://www.elastic.co/guide/en/elasticsearch/reference/7.17/security-minimal-setup.html to enable security.\n",
      "  es.indices.create(index='item_recommendations', body=index_settings)\n",
      "C:\\Users\\chand\\AppData\\Local\\Temp\\ipykernel_30236\\3566602912.py:45: DeprecationWarning: The 'body' parameter is deprecated and will be removed in a future version. Instead use the 'document' parameter. See https://github.com/elastic/elasticsearch-py/issues/1698 for more information\n",
      "  es.index(index='item_recommendations', id=target_item, body=doc)\n",
      "C:\\Users\\chand\\AppData\\Local\\Temp\\ipykernel_30236\\3566602912.py:45: ElasticsearchWarning: Elasticsearch built-in security features are not enabled. Without authentication, your cluster could be accessible to anyone. See https://www.elastic.co/guide/en/elasticsearch/reference/7.17/security-minimal-setup.html to enable security.\n",
      "  es.index(index='item_recommendations', id=target_item, body=doc)\n"
     ]
    },
    {
     "ename": "",
     "evalue": "",
     "output_type": "error",
     "traceback": [
      "\u001b[1;31mCannot execute code, session has been disposed. Please try restarting the Kernel."
     ]
    },
    {
     "ename": "",
     "evalue": "",
     "output_type": "error",
     "traceback": [
      "\u001b[1;31mThe Kernel crashed while executing code in the the current cell or a previous cell. Please review the code in the cell(s) to identify a possible cause of the failure. Click <a href='https://aka.ms/vscodeJupyterKernelCrash'>here</a> for more info. View Jupyter <a href='command:jupyter.viewOutput'>log</a> for further details."
     ]
    }
   ],
   "source": [
    "# from elasticsearch import Elasticsearch\n",
    "\n",
    "# # Initialize Elasticsearch client\n",
    "# es = Elasticsearch([{'host': 'localhost', 'port': 9200, 'scheme': 'http'}])  # Replace with your Elasticsearch host and port\n",
    "\n",
    "# Create the index with mappings if it doesn't exist\n",
    "index_settings = {\n",
    "    'mappings': {\n",
    "        'properties': {\n",
    "            'product_id': {'type': 'keyword'},\n",
    "            'recommendations': {\n",
    "                'type': 'nested',\n",
    "                'properties': {\n",
    "                    'rank': {'type': 'integer'},\n",
    "                    'recommended_item_id': {'type': 'keyword'}\n",
    "                }\n",
    "            }\n",
    "        }\n",
    "    }\n",
    "}\n",
    "if not es.indices.exists(index='item_recommendations'):\n",
    "    es.indices.create(index='item_recommendations', body=index_settings)\n",
    "\n",
    "# Iterate through all product IDs and save recommendations\n",
    "for target_item in dls.classes['product_id']:\n",
    "    item_idx = dls.classes['product_id'].o2i[target_item]\n",
    "    item_factors = learn.model.i_weight.weight\n",
    "    similarity_scores = (item_factors @ item_factors[item_idx].T).squeeze()\n",
    "    recommended_indices = similarity_scores.argsort(descending=True)[:5]\n",
    "    recommended_items = [dls.classes['product_id'][i] for i in recommended_indices]\n",
    "\n",
    "    # Prepare the recommendations data\n",
    "    recommendations = []\n",
    "    for rank, item_id in enumerate(recommended_items, start=1):\n",
    "        recommendations.append({\n",
    "            'rank': rank,\n",
    "            'recommended_item_id': item_id\n",
    "        })\n",
    "\n",
    "    # Save recommendations in Elasticsearch\n",
    "    doc = {\n",
    "        'product_id': target_item,\n",
    "        'recommendations': recommendations\n",
    "    }\n",
    "    es.index(index='item_recommendations', id=target_item, body=doc)\n"
   ]
  },
  {
   "cell_type": "code",
   "execution_count": null,
   "metadata": {},
   "outputs": [],
   "source": []
  }
 ],
 "metadata": {
  "kernelspec": {
   "display_name": "Python 3",
   "language": "python",
   "name": "python3"
  },
  "language_info": {
   "codemirror_mode": {
    "name": "ipython",
    "version": 3
   },
   "file_extension": ".py",
   "mimetype": "text/x-python",
   "name": "python",
   "nbconvert_exporter": "python",
   "pygments_lexer": "ipython3",
   "version": "3.11.1"
  },
  "orig_nbformat": 4
 },
 "nbformat": 4,
 "nbformat_minor": 2
}
